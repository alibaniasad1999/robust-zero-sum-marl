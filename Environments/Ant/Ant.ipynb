{
 "cells": [
  {
   "cell_type": "code",
   "source": [
    "!pip install \"gymnasium[mujoco]\""
   ],
   "metadata": {
    "colab": {
     "base_uri": "https://localhost:8080/"
    },
    "id": "4klmjw4OaWJN",
    "outputId": "2aaedfe6-9554-4e3d-9d87-138b4cfef9a3",
    "ExecuteTime": {
     "end_time": "2025-10-11T20:48:44.836164Z",
     "start_time": "2025-10-11T20:48:43.268971Z"
    }
   },
   "id": "4klmjw4OaWJN",
   "outputs": [
    {
     "name": "stdout",
     "output_type": "stream",
     "text": [
      "Requirement already satisfied: gymnasium[mujoco] in /Users/Ali/Documents/BAI/Master/master-thesis/.env/lib/python3.11/site-packages (1.1.1)\r\n",
      "Requirement already satisfied: numpy>=1.21.0 in /Users/Ali/Documents/BAI/Master/master-thesis/.env/lib/python3.11/site-packages (from gymnasium[mujoco]) (1.26.4)\r\n",
      "Requirement already satisfied: cloudpickle>=1.2.0 in /Users/Ali/Documents/BAI/Master/master-thesis/.env/lib/python3.11/site-packages (from gymnasium[mujoco]) (3.0.0)\r\n",
      "Requirement already satisfied: typing-extensions>=4.3.0 in /Users/Ali/Documents/BAI/Master/master-thesis/.env/lib/python3.11/site-packages (from gymnasium[mujoco]) (4.11.0)\r\n",
      "Requirement already satisfied: farama-notifications>=0.0.1 in /Users/Ali/Documents/BAI/Master/master-thesis/.env/lib/python3.11/site-packages (from gymnasium[mujoco]) (0.0.4)\r\n",
      "Requirement already satisfied: mujoco>=2.1.5 in /Users/Ali/Documents/BAI/Master/master-thesis/.env/lib/python3.11/site-packages (from gymnasium[mujoco]) (3.3.0)\r\n",
      "Requirement already satisfied: imageio>=2.14.1 in /Users/Ali/Documents/BAI/Master/master-thesis/.env/lib/python3.11/site-packages (from gymnasium[mujoco]) (2.34.1)\r\n",
      "Requirement already satisfied: pillow>=8.3.2 in /Users/Ali/Documents/BAI/Master/master-thesis/.env/lib/python3.11/site-packages (from imageio>=2.14.1->gymnasium[mujoco]) (10.3.0)\r\n",
      "Requirement already satisfied: absl-py in /Users/Ali/Documents/BAI/Master/master-thesis/.env/lib/python3.11/site-packages (from mujoco>=2.1.5->gymnasium[mujoco]) (2.1.0)\r\n",
      "Requirement already satisfied: etils[epath] in /Users/Ali/Documents/BAI/Master/master-thesis/.env/lib/python3.11/site-packages (from mujoco>=2.1.5->gymnasium[mujoco]) (1.8.0)\r\n",
      "Requirement already satisfied: glfw in /Users/Ali/Documents/BAI/Master/master-thesis/.env/lib/python3.11/site-packages (from mujoco>=2.1.5->gymnasium[mujoco]) (2.7.0)\r\n",
      "Requirement already satisfied: pyopengl in /Users/Ali/Documents/BAI/Master/master-thesis/.env/lib/python3.11/site-packages (from mujoco>=2.1.5->gymnasium[mujoco]) (3.1.7)\r\n",
      "Requirement already satisfied: fsspec in /Users/Ali/Documents/BAI/Master/master-thesis/.env/lib/python3.11/site-packages (from etils[epath]->mujoco>=2.1.5->gymnasium[mujoco]) (2024.5.0)\r\n",
      "Requirement already satisfied: importlib_resources in /Users/Ali/Documents/BAI/Master/master-thesis/.env/lib/python3.11/site-packages (from etils[epath]->mujoco>=2.1.5->gymnasium[mujoco]) (6.4.0)\r\n",
      "Requirement already satisfied: zipp in /Users/Ali/Documents/BAI/Master/master-thesis/.env/lib/python3.11/site-packages (from etils[epath]->mujoco>=2.1.5->gymnasium[mujoco]) (3.19.0)\r\n",
      "\r\n",
      "\u001B[1m[\u001B[0m\u001B[34;49mnotice\u001B[0m\u001B[1;39;49m]\u001B[0m\u001B[39;49m A new release of pip is available: \u001B[0m\u001B[31;49m24.3.1\u001B[0m\u001B[39;49m -> \u001B[0m\u001B[32;49m25.2\u001B[0m\r\n",
      "\u001B[1m[\u001B[0m\u001B[34;49mnotice\u001B[0m\u001B[1;39;49m]\u001B[0m\u001B[39;49m To update, run: \u001B[0m\u001B[32;49mpip install --upgrade pip\u001B[0m\r\n"
     ]
    }
   ],
   "execution_count": 1
  },
  {
   "cell_type": "code",
   "id": "initial_id",
   "metadata": {
    "collapsed": true,
    "id": "initial_id",
    "ExecuteTime": {
     "end_time": "2025-10-11T20:48:52.295720Z",
     "start_time": "2025-10-11T20:48:44.856003Z"
    }
   },
   "source": [
    "import gymnasium as gym\n",
    "import sys"
   ],
   "outputs": [],
   "execution_count": 2
  },
  {
   "metadata": {
    "id": "1ef4e28d5bdceb8e",
    "ExecuteTime": {
     "end_time": "2025-10-11T20:49:56.674224Z",
     "start_time": "2025-10-11T20:49:56.589844Z"
    }
   },
   "cell_type": "code",
   "source": [
    "sys.path.append('../../DDPG')\n",
    "sys.path.append('../../MADDPG')\n",
    "from MADDPG import *"
   ],
   "id": "1ef4e28d5bdceb8e",
   "outputs": [],
   "execution_count": 3
  },
  {
   "metadata": {
    "colab": {
     "base_uri": "https://localhost:8080/"
    },
    "id": "35efa67a2f1f777d",
    "outputId": "b5addede-f1d1-4f06-fb8e-9ff969fc6912",
    "ExecuteTime": {
     "end_time": "2025-10-11T20:52:43.647435Z",
     "start_time": "2025-10-11T20:52:43.600583Z"
    }
   },
   "cell_type": "code",
   "source": [
    "env = gym.make('Ant-v5')\n",
    "hid = 512\n",
    "l = 3\n",
    "gamma = 0.99\n",
    "seed = 0\n",
    "epochs = 100\n",
    "steps_per_epoch_ = 10000\n",
    "device = \"auto\"\n",
    "\n",
    "ac_kwargs = dict(hidden_sizes=[hid] * l)\n",
    "ddpg = MADDPGAgent(lambda: env, MAMLPActorCritic, ac_kwargs,\n",
    "               seed=seed, steps_per_epoch=steps_per_epoch_, epochs=epochs,\n",
    "               device=device, batch_size=1024, start_steps=5000, update_after=10000, update_every=50)"
   ],
   "id": "35efa67a2f1f777d",
   "outputs": [
    {
     "name": "stdout",
     "output_type": "stream",
     "text": [
      "[DDPG] Using device: cpu\n",
      "\n",
      "Number of parameters: \t actor: 583688, \t critic: 588289\n",
      "\n"
     ]
    }
   ],
   "execution_count": 11
  },
  {
   "metadata": {
    "id": "fb0791f31f294a7d",
    "ExecuteTime": {
     "end_time": "2025-10-11T20:52:11.954439Z",
     "start_time": "2025-10-11T20:52:11.905269Z"
    }
   },
   "cell_type": "code",
   "source": "ddpg.load(from_device_to_load=\"cuda\")",
   "id": "fb0791f31f294a7d",
   "outputs": [
    {
     "name": "stdout",
     "output_type": "stream",
     "text": [
      "\u001B[34;1mModel loaded on cpu.\u001B[0m\n"
     ]
    }
   ],
   "execution_count": 9
  },
  {
   "metadata": {
    "id": "4d42418995c7c25b",
    "ExecuteTime": {
     "end_time": "2025-10-11T20:53:00.926401Z",
     "start_time": "2025-10-11T20:52:45.223326Z"
    }
   },
   "cell_type": "code",
   "source": [
    "import time\n",
    "# Create the Humanoid environment with a human render mode\n",
    "env = gym.make('Ant-v5', render_mode=\"human\")\n",
    "# Reset the environment and get the initial observation and info\n",
    "obs, info = env.reset()\n",
    "step = 0\n",
    "\n",
    "try:\n",
    "    while step < 50000:\n",
    "        # Render the environment (animation window)\n",
    "        env.render()\n",
    "\n",
    "        # Sample a random action from the action space\n",
    "        action = ddpg.get_action(obs, 0)\n",
    "\n",
    "        # Take a step in the environment\n",
    "        obs, reward, terminated, truncated, info = env.step(action)\n",
    "\n",
    "\n",
    "        # Check if the episode is over\n",
    "        if terminated or truncated:\n",
    "            print(\"Episode finished!\", truncated, terminated)\n",
    "            break\n",
    "\n",
    "        # Small delay to control simulation speed\n",
    "        time.sleep(0.05)\n",
    "        step += 1\n",
    "except KeyboardInterrupt:\n",
    "    print(\"Simulation interrupted.\")\n",
    "finally:\n",
    "    # Close the environment to free resources and close the render window\n",
    "    env.close()\n"
   ],
   "id": "4d42418995c7c25b",
   "outputs": [
    {
     "name": "stdout",
     "output_type": "stream",
     "text": [
      "Simulation interrupted.\n"
     ]
    }
   ],
   "execution_count": 12
  }
 ],
 "metadata": {
  "kernelspec": {
   "display_name": "Python 3 (ipykernel)",
   "name": "python3",
   "language": "python"
  },
  "language_info": {
   "codemirror_mode": {
    "name": "ipython",
    "version": 2
   },
   "file_extension": ".py",
   "mimetype": "text/x-python",
   "name": "python",
   "nbconvert_exporter": "python",
   "pygments_lexer": "ipython2",
   "version": "2.7.6"
  },
  "colab": {
   "provenance": []
  }
 },
 "nbformat": 4,
 "nbformat_minor": 5
}
