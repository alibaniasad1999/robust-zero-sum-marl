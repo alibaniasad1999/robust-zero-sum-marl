{
 "cells": [
  {
   "cell_type": "code",
   "source": [
    "!pip install \"gymnasium[mujoco]\""
   ],
   "metadata": {
    "colab": {
     "base_uri": "https://localhost:8080/"
    },
    "id": "4klmjw4OaWJN",
    "outputId": "2aaedfe6-9554-4e3d-9d87-138b4cfef9a3",
    "ExecuteTime": {
     "end_time": "2025-10-08T20:49:05.761992Z",
     "start_time": "2025-10-08T20:49:03.940817Z"
    }
   },
   "id": "4klmjw4OaWJN",
   "outputs": [
    {
     "name": "stdout",
     "output_type": "stream",
     "text": [
      "Requirement already satisfied: gymnasium[mujoco] in /Users/ali/Documents/BAI/University/robust-zero-sum-marl/.env/lib/python3.13/site-packages (1.2.1)\r\n",
      "Requirement already satisfied: numpy>=1.21.0 in /Users/ali/Documents/BAI/University/robust-zero-sum-marl/.env/lib/python3.13/site-packages (from gymnasium[mujoco]) (2.3.3)\r\n",
      "Requirement already satisfied: cloudpickle>=1.2.0 in /Users/ali/Documents/BAI/University/robust-zero-sum-marl/.env/lib/python3.13/site-packages (from gymnasium[mujoco]) (3.1.1)\r\n",
      "Requirement already satisfied: typing-extensions>=4.3.0 in /Users/ali/Documents/BAI/University/robust-zero-sum-marl/.env/lib/python3.13/site-packages (from gymnasium[mujoco]) (4.15.0)\r\n",
      "Requirement already satisfied: farama-notifications>=0.0.1 in /Users/ali/Documents/BAI/University/robust-zero-sum-marl/.env/lib/python3.13/site-packages (from gymnasium[mujoco]) (0.0.4)\r\n",
      "Requirement already satisfied: mujoco>=2.1.5 in /Users/ali/Documents/BAI/University/robust-zero-sum-marl/.env/lib/python3.13/site-packages (from gymnasium[mujoco]) (3.3.6)\r\n",
      "Requirement already satisfied: imageio>=2.14.1 in /Users/ali/Documents/BAI/University/robust-zero-sum-marl/.env/lib/python3.13/site-packages (from gymnasium[mujoco]) (2.37.0)\r\n",
      "Requirement already satisfied: packaging>=23.0 in /Users/ali/Documents/BAI/University/robust-zero-sum-marl/.env/lib/python3.13/site-packages (from gymnasium[mujoco]) (25.0)\r\n",
      "Requirement already satisfied: pillow>=8.3.2 in /Users/ali/Documents/BAI/University/robust-zero-sum-marl/.env/lib/python3.13/site-packages (from imageio>=2.14.1->gymnasium[mujoco]) (11.3.0)\r\n",
      "Requirement already satisfied: absl-py in /Users/ali/Documents/BAI/University/robust-zero-sum-marl/.env/lib/python3.13/site-packages (from mujoco>=2.1.5->gymnasium[mujoco]) (2.3.1)\r\n",
      "Requirement already satisfied: etils[epath] in /Users/ali/Documents/BAI/University/robust-zero-sum-marl/.env/lib/python3.13/site-packages (from mujoco>=2.1.5->gymnasium[mujoco]) (1.13.0)\r\n",
      "Requirement already satisfied: glfw in /Users/ali/Documents/BAI/University/robust-zero-sum-marl/.env/lib/python3.13/site-packages (from mujoco>=2.1.5->gymnasium[mujoco]) (2.10.0)\r\n",
      "Requirement already satisfied: pyopengl in /Users/ali/Documents/BAI/University/robust-zero-sum-marl/.env/lib/python3.13/site-packages (from mujoco>=2.1.5->gymnasium[mujoco]) (3.1.10)\r\n",
      "Requirement already satisfied: fsspec in /Users/ali/Documents/BAI/University/robust-zero-sum-marl/.env/lib/python3.13/site-packages (from etils[epath]->mujoco>=2.1.5->gymnasium[mujoco]) (2025.9.0)\r\n",
      "Requirement already satisfied: importlib_resources in /Users/ali/Documents/BAI/University/robust-zero-sum-marl/.env/lib/python3.13/site-packages (from etils[epath]->mujoco>=2.1.5->gymnasium[mujoco]) (6.5.2)\r\n",
      "Requirement already satisfied: zipp in /Users/ali/Documents/BAI/University/robust-zero-sum-marl/.env/lib/python3.13/site-packages (from etils[epath]->mujoco>=2.1.5->gymnasium[mujoco]) (3.23.0)\r\n"
     ]
    }
   ],
   "execution_count": 8
  },
  {
   "cell_type": "code",
   "id": "initial_id",
   "metadata": {
    "collapsed": true,
    "id": "initial_id",
    "ExecuteTime": {
     "end_time": "2025-10-08T20:48:11.414210Z",
     "start_time": "2025-10-08T20:48:11.370420Z"
    }
   },
   "source": [
    "import gymnasium as gym\n",
    "import sys"
   ],
   "outputs": [],
   "execution_count": 2
  },
  {
   "metadata": {
    "id": "1ef4e28d5bdceb8e",
    "ExecuteTime": {
     "end_time": "2025-10-08T20:48:11.874921Z",
     "start_time": "2025-10-08T20:48:11.419471Z"
    }
   },
   "cell_type": "code",
   "source": [
    "sys.path.append('../../DDPG')\n",
    "from DDPG import DDPGAgent, MLPActorCritic"
   ],
   "id": "1ef4e28d5bdceb8e",
   "outputs": [],
   "execution_count": 3
  },
  {
   "metadata": {
    "colab": {
     "base_uri": "https://localhost:8080/"
    },
    "id": "35efa67a2f1f777d",
    "outputId": "b5addede-f1d1-4f06-fb8e-9ff969fc6912",
    "ExecuteTime": {
     "end_time": "2025-10-08T20:48:12.234365Z",
     "start_time": "2025-10-08T20:48:11.880766Z"
    }
   },
   "cell_type": "code",
   "source": [
    "env = gym.make('Humanoid-v5')\n",
    "hid = 512\n",
    "l = 3\n",
    "gamma = 0.99\n",
    "seed = 0\n",
    "epochs = 100\n",
    "steps_per_epoch_ = 10000\n",
    "device = \"auto\"\n",
    "\n",
    "ac_kwargs = dict(hidden_sizes=[hid] * l)\n",
    "ddpg = DDPGAgent(lambda: env, MLPActorCritic, ac_kwargs,\n",
    "               seed=seed, steps_per_epoch=steps_per_epoch_, epochs=epochs,\n",
    "               device=device, batch_size=1024, start_steps=5000, update_after=10000, update_every=50)"
   ],
   "id": "35efa67a2f1f777d",
   "outputs": [
    {
     "name": "stdout",
     "output_type": "stream",
     "text": [
      "[DDPG] Using device: cpu\n",
      "\n",
      "Number of parameters: \t actor: 2474001, \t critic: 2475009\n",
      "\n"
     ]
    }
   ],
   "execution_count": 4
  },
  {
   "metadata": {
    "id": "fb0791f31f294a7d",
    "ExecuteTime": {
     "end_time": "2025-10-08T20:48:12.246135Z",
     "start_time": "2025-10-08T20:48:12.238996Z"
    }
   },
   "cell_type": "code",
   "source": "ddpg.load(from_device_to_load=\"cuda\")",
   "id": "fb0791f31f294a7d",
   "outputs": [
    {
     "name": "stdout",
     "output_type": "stream",
     "text": [
      "\u001B[34;1mModel loaded on cpu.\u001B[0m\n"
     ]
    }
   ],
   "execution_count": 5
  },
  {
   "metadata": {
    "id": "4d42418995c7c25b",
    "ExecuteTime": {
     "end_time": "2025-10-08T20:48:35.850648Z",
     "start_time": "2025-10-08T20:48:24.688641Z"
    }
   },
   "cell_type": "code",
   "source": [
    "import time\n",
    "# Create the Humanoid environment with a human render mode\n",
    "env = gym.make('Humanoid-v5', render_mode=\"human\")\n",
    "# Reset the environment and get the initial observation and info\n",
    "obs, info = env.reset()\n",
    "step = 0\n",
    "\n",
    "try:\n",
    "    while step < 50000:\n",
    "        # Render the environment (animation window)\n",
    "        env.render()\n",
    "\n",
    "        # Sample a random action from the action space\n",
    "        action = ddpg.get_action(obs, 0)\n",
    "\n",
    "        # Take a step in the environment\n",
    "        obs, reward, terminated, truncated, info = env.step(action)\n",
    "\n",
    "\n",
    "        # Check if the episode is over\n",
    "        if terminated or truncated:\n",
    "            print(\"Episode finished!\", truncated, terminated)\n",
    "            break\n",
    "\n",
    "        # Small delay to control simulation speed\n",
    "        time.sleep(0.05)\n",
    "        step += 1\n",
    "except KeyboardInterrupt:\n",
    "    print(\"Simulation interrupted.\")\n",
    "finally:\n",
    "    # Close the environment to free resources and close the render window\n",
    "    env.close()\n"
   ],
   "id": "4d42418995c7c25b",
   "outputs": [
    {
     "name": "stdout",
     "output_type": "stream",
     "text": [
      "Episode finished! False True\n"
     ]
    }
   ],
   "execution_count": 7
  }
 ],
 "metadata": {
  "kernelspec": {
   "display_name": "Python 3 (ipykernel)",
   "name": "python3",
   "language": "python"
  },
  "language_info": {
   "codemirror_mode": {
    "name": "ipython",
    "version": 2
   },
   "file_extension": ".py",
   "mimetype": "text/x-python",
   "name": "python",
   "nbconvert_exporter": "python",
   "pygments_lexer": "ipython2",
   "version": "2.7.6"
  },
  "colab": {
   "provenance": []
  }
 },
 "nbformat": 4,
 "nbformat_minor": 5
}
