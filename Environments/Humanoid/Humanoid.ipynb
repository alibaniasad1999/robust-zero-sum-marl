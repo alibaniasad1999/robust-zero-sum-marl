{
 "cells": [
  {
   "cell_type": "code",
   "source": [
    "!pip install \"gymnasium[mujoco]\""
   ],
   "metadata": {
    "colab": {
     "base_uri": "https://localhost:8080/"
    },
    "id": "4klmjw4OaWJN",
    "outputId": "2aaedfe6-9554-4e3d-9d87-138b4cfef9a3"
   },
   "id": "4klmjw4OaWJN",
   "outputs": [],
   "execution_count": null
  },
  {
   "cell_type": "code",
   "id": "initial_id",
   "metadata": {
    "collapsed": true,
    "id": "initial_id"
   },
   "source": [
    "import gymnasium as gym\n",
    "import sys"
   ],
   "outputs": [],
   "execution_count": null
  },
  {
   "metadata": {
    "id": "1ef4e28d5bdceb8e"
   },
   "cell_type": "code",
   "source": [
    "sys.path.append('../../DDPG')\n",
    "sys.path.append('../../MADDPG')\n",
    "from MADDPG import *"
   ],
   "id": "1ef4e28d5bdceb8e",
   "outputs": [],
   "execution_count": null
  },
  {
   "metadata": {
    "colab": {
     "base_uri": "https://localhost:8080/"
    },
    "id": "35efa67a2f1f777d",
    "outputId": "b5addede-f1d1-4f06-fb8e-9ff969fc6912"
   },
   "cell_type": "code",
   "source": [
    "env = gym.make('Humanoid-v5')\n",
    "hid = 512\n",
    "l = 3\n",
    "gamma = 0.99\n",
    "seed = 0\n",
    "epochs = 100\n",
    "steps_per_epoch_ = 10000\n",
    "device = \"auto\"\n",
    "\n",
    "ac_kwargs = dict(hidden_sizes=[hid] * l)\n",
    "ddpg = MADDPGAgent(lambda: env, MAMLPActorCritic, ac_kwargs,\n",
    "               seed=seed, steps_per_epoch=steps_per_epoch_, epochs=epochs,\n",
    "               device=device, batch_size=1024, start_steps=5000, update_after=10000, update_every=50)"
   ],
   "id": "35efa67a2f1f777d",
   "outputs": [],
   "execution_count": null
  },
  {
   "metadata": {
    "id": "fb0791f31f294a7d"
   },
   "cell_type": "code",
   "source": "ddpg.train()",
   "id": "fb0791f31f294a7d",
   "outputs": [],
   "execution_count": null
  },
  {
   "metadata": {
    "id": "4d42418995c7c25b"
   },
   "cell_type": "code",
   "source": [
    "import time\n",
    "# Create the Humanoid environment with a human render mode\n",
    "env = gym.make('Humanoid-v5', render_mode=\"human\")\n",
    "# Reset the environment and get the initial observation and info\n",
    "obs, info = env.reset()\n",
    "step = 0\n",
    "\n",
    "try:\n",
    "    while step < 50000:\n",
    "        # Render the environment (animation window)\n",
    "        env.render()\n",
    "\n",
    "        # Sample a random action from the action space\n",
    "        action = ddpg.get_action(obs, 0)\n",
    "\n",
    "        # Take a step in the environment\n",
    "        obs, reward, terminated, truncated, info = env.step(action)\n",
    "\n",
    "\n",
    "        # Check if the episode is over\n",
    "        if terminated or truncated:\n",
    "            print(\"Episode finished!\", truncated, terminated)\n",
    "            break\n",
    "\n",
    "        # Small delay to control simulation speed\n",
    "        time.sleep(0.05)\n",
    "        step += 1\n",
    "except KeyboardInterrupt:\n",
    "    print(\"Simulation interrupted.\")\n",
    "finally:\n",
    "    # Close the environment to free resources and close the render window\n",
    "    env.close()\n"
   ],
   "id": "4d42418995c7c25b",
   "outputs": [],
   "execution_count": null
  }
 ],
 "metadata": {
  "kernelspec": {
   "display_name": "Python 3 (ipykernel)",
   "name": "python3",
   "language": "python"
  },
  "language_info": {
   "codemirror_mode": {
    "name": "ipython",
    "version": 2
   },
   "file_extension": ".py",
   "mimetype": "text/x-python",
   "name": "python",
   "nbconvert_exporter": "python",
   "pygments_lexer": "ipython2",
   "version": "2.7.6"
  },
  "colab": {
   "provenance": []
  }
 },
 "nbformat": 4,
 "nbformat_minor": 5
}
